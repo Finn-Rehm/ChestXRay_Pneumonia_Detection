{
 "cells": [
  {
   "cell_type": "markdown",
   "metadata": {},
   "source": [
    "# **Data load & preprocess**"
   ]
  },
  {
   "cell_type": "markdown",
   "metadata": {},
   "source": [
    "The data was obtained from the following site: https://www.kaggle.com/datasets/paultimothymooney/chest-xray-pneumonia"
   ]
  },
  {
   "cell_type": "markdown",
   "metadata": {},
   "source": [
    " There are two different typs of photos: \"NORMAL\" and \"PNEUMONIA\"\n",
    "\n",
    " \"NORMAL\", are the normal X-ray images of the chest without pneumonia\n",
    " \n",
    " \"PNEUMONIA\", are X-ray images of the chest with the pneumonia disease"
   ]
  },
  {
   "cell_type": "markdown",
   "metadata": {},
   "source": []
  },
  {
   "cell_type": "markdown",
   "metadata": {},
   "source": [
    "### **_IMPORTS_**"
   ]
  },
  {
   "cell_type": "code",
   "execution_count": 12,
   "metadata": {},
   "outputs": [],
   "source": [
    "import os\n",
    "import matplotlib.pyplot as plt\n",
    "import random\n",
    "\n",
    "from torchvision import transforms, datasets\n",
    "from torch.utils.data import DataLoader\n",
    "from PIL import Image"
   ]
  },
  {
   "cell_type": "markdown",
   "metadata": {},
   "source": [
    "#### **_Checking label distribution_**"
   ]
  },
  {
   "cell_type": "code",
   "execution_count": 13,
   "metadata": {},
   "outputs": [
    {
     "name": "stdout",
     "output_type": "stream",
     "text": [
      "\n",
      "📂 TRAIN SET\n",
      "NORMAL: 3875 images\n",
      "PNEUMONIA: 3875 images\n",
      "\n",
      "📂 VAL SET\n",
      "NORMAL: 8 images\n",
      "PNEUMONIA: 8 images\n",
      "\n",
      "📂 TEST SET\n",
      "NORMAL: 234 images\n",
      "PNEUMONIA: 390 images\n"
     ]
    }
   ],
   "source": [
    "data_dir = \"../data/chest_xray/\"\n",
    "sets = ['train', 'val', 'test']\n",
    "\n",
    "for dataset in sets:\n",
    "    normal_count = len(os.listdir(os.path.join(data_dir, dataset, \"NORMAL\")))\n",
    "    pneumonia_count = len(os.listdir(os.path.join(data_dir, dataset, \"PNEUMONIA\")))\n",
    "    \n",
    "    print(f\"\\n📂 {dataset.upper()} SET\")\n",
    "    print(f\"NORMAL: {normal_count} images\")\n",
    "    print(f\"PNEUMONIA: {pneumonia_count} images\")\n"
   ]
  },
  {
   "cell_type": "markdown",
   "metadata": {},
   "source": [
    "Looks like the data is imbalanced, because there are more PNEUMONIA images then NORMAL images!"
   ]
  },
  {
   "cell_type": "markdown",
   "metadata": {},
   "source": [
    "### **_Balance train_data_**"
   ]
  },
  {
   "cell_type": "code",
   "execution_count": null,
   "metadata": {},
   "outputs": [],
   "source": [
    "dir = \"../data/chest_xray/train/NORMAL\"\n",
    "\n",
    "# Data Augmentation Pipeline\n",
    "augment_transform = transforms.Compose([\n",
    "    transforms.RandomRotation(20),\n",
    "    transforms.RandomResizedCrop(224, scale=(0.85, 1.0)), \n",
    "    transforms.RandomHorizontalFlip(),\n",
    "    transforms.ColorJitter(brightness=0.3, contrast=0.3),\n",
    "    transforms.RandomAffine(degrees=10, shear=10),  # added Warping\n",
    "    transforms.GaussianBlur(3),  # added soft blurring\n",
    "])\n"
   ]
  },
  {
   "cell_type": "code",
   "execution_count": 15,
   "metadata": {},
   "outputs": [
    {
     "name": "stdout",
     "output_type": "stream",
     "text": [
      "Deleted: ../data/chest_xray/train/NORMAL\\IM-0764-0001_aug1.jpg\n",
      "Deleted: ../data/chest_xray/train/NORMAL\\NORMAL2-IM-1326-0001_aug0.jpg\n",
      "Deleted: ../data/chest_xray/train/NORMAL\\NORMAL2-IM-1304-0001_aug1.jpg\n",
      "Deleted: ../data/chest_xray/train/NORMAL\\IM-0552-0001_aug1.jpg\n",
      "Deleted: ../data/chest_xray/train/NORMAL\\NORMAL2-IM-1330-0001_aug1.jpg\n",
      "Deleted: ../data/chest_xray/train/NORMAL\\IM-0315-0001_aug0.jpg\n",
      "Deleted: ../data/chest_xray/train/NORMAL\\IM-0294-0001_aug1.jpg\n",
      "Deleted: ../data/chest_xray/train/NORMAL\\IM-0502-0001_aug0.jpg\n",
      "Deleted: ../data/chest_xray/train/NORMAL\\NORMAL2-IM-1401-0001_aug1.jpg\n",
      "Deleted: ../data/chest_xray/train/NORMAL\\IM-0674-0001_aug0.jpg\n",
      "Deleted: ../data/chest_xray/train/NORMAL\\NORMAL2-IM-1401-0001_aug0.jpg\n",
      "Deleted: ../data/chest_xray/train/NORMAL\\NORMAL2-IM-0843-0001_aug1.jpg\n",
      "Deleted: ../data/chest_xray/train/NORMAL\\IM-0429-0001-0002_aug1.jpg\n",
      "Deleted: ../data/chest_xray/train/NORMAL\\NORMAL2-IM-0526-0001_aug0.jpg\n",
      "Deleted: ../data/chest_xray/train/NORMAL\\IM-0559-0001_aug0.jpg\n",
      "Deleted: ../data/chest_xray/train/NORMAL\\NORMAL2-IM-1019-0001_aug0.jpg\n",
      "Deleted: ../data/chest_xray/train/NORMAL\\NORMAL2-IM-1302-0001_aug1.jpg\n",
      "Deleted: ../data/chest_xray/train/NORMAL\\IM-0203-0001_aug0.jpg\n",
      "Deleted: ../data/chest_xray/train/NORMAL\\NORMAL2-IM-1306-0001_aug0.jpg\n",
      "Deleted: ../data/chest_xray/train/NORMAL\\NORMAL2-IM-1104-0001_aug1.jpg\n",
      "Deleted: ../data/chest_xray/train/NORMAL\\NORMAL2-IM-0885-0001_aug0.jpg\n",
      "Deleted: ../data/chest_xray/train/NORMAL\\IM-0453-0001-0002_aug0.jpg\n",
      "Deleted: ../data/chest_xray/train/NORMAL\\NORMAL2-IM-1067-0001-0001_aug0.jpg\n",
      "Deleted: ../data/chest_xray/train/NORMAL\\IM-0560-0001_aug0.jpg\n",
      "Deleted: ../data/chest_xray/train/NORMAL\\IM-0529-0001_aug1.jpg\n",
      "Deleted: ../data/chest_xray/train/NORMAL\\IM-0648-0001_aug1.jpg\n",
      "Deleted: ../data/chest_xray/train/NORMAL\\IM-0289-0001_aug0.jpg\n",
      "Deleted: ../data/chest_xray/train/NORMAL\\NORMAL2-IM-1234-0001_aug0.jpg\n",
      "Deleted: ../data/chest_xray/train/NORMAL\\IM-0644-0001_aug0.jpg\n",
      "Deleted: ../data/chest_xray/train/NORMAL\\IM-0532-0001_aug1.jpg\n",
      "Deleted: ../data/chest_xray/train/NORMAL\\IM-0613-0001_aug1.jpg\n",
      "Deleted: ../data/chest_xray/train/NORMAL\\NORMAL2-IM-0980-0001_aug0.jpg\n",
      "Deleted: ../data/chest_xray/train/NORMAL\\IM-0239-0001_aug1.jpg\n",
      "Deleted: ../data/chest_xray/train/NORMAL\\NORMAL2-IM-0848-0001_aug1.jpg\n",
      "Deleted: ../data/chest_xray/train/NORMAL\\NORMAL2-IM-1264-0001_aug1.jpg\n",
      "Deleted: ../data/chest_xray/train/NORMAL\\IM-0229-0001_aug0.jpg\n",
      "Deleted: ../data/chest_xray/train/NORMAL\\NORMAL2-IM-1102-0001-0002_aug0.jpg\n",
      "Deleted: ../data/chest_xray/train/NORMAL\\NORMAL2-IM-0869-0001_aug0.jpg\n",
      "Deleted: ../data/chest_xray/train/NORMAL\\NORMAL2-IM-1110-0001_aug1.jpg\n",
      "Deleted: ../data/chest_xray/train/NORMAL\\NORMAL2-IM-0609-0001_aug1.jpg\n",
      "Deleted: ../data/chest_xray/train/NORMAL\\NORMAL2-IM-0587-0001-0002_aug0.jpg\n",
      "Deleted: ../data/chest_xray/train/NORMAL\\IM-0549-0001-0001_aug0.jpg\n",
      "Deleted: ../data/chest_xray/train/NORMAL\\NORMAL2-IM-0945-0001_aug0.jpg\n",
      "Deleted: ../data/chest_xray/train/NORMAL\\IM-0509-0001_aug1.jpg\n",
      "Deleted: ../data/chest_xray/train/NORMAL\\NORMAL2-IM-1206-0001_aug1.jpg\n",
      "Deleted: ../data/chest_xray/train/NORMAL\\NORMAL2-IM-1058-0001_aug1.jpg\n",
      "Deleted: ../data/chest_xray/train/NORMAL\\IM-0569-0001_aug0.jpg\n",
      "Deleted: ../data/chest_xray/train/NORMAL\\NORMAL2-IM-0530-0001_aug0.jpg\n",
      "Deleted: ../data/chest_xray/train/NORMAL\\IM-0627-0001_aug1.jpg\n",
      "Deleted: ../data/chest_xray/train/NORMAL\\IM-0511-0001-0001_aug0.jpg\n",
      "Deleted: ../data/chest_xray/train/NORMAL\\IM-0250-0001_aug0.jpg\n",
      "Deleted: ../data/chest_xray/train/NORMAL\\IM-0133-0001_aug0.jpg\n",
      "Deleted: ../data/chest_xray/train/NORMAL\\NORMAL2-IM-1274-0001_aug1.jpg\n",
      "Deleted: ../data/chest_xray/train/NORMAL\\NORMAL2-IM-0872-0001_aug0.jpg\n",
      "Deleted: ../data/chest_xray/train/NORMAL\\NORMAL2-IM-1020-0001_aug1.jpg\n",
      "Deleted: ../data/chest_xray/train/NORMAL\\IM-0599-0001_aug1.jpg\n",
      "Deleted: ../data/chest_xray/train/NORMAL\\IM-0270-0001_aug1.jpg\n",
      "Deleted: ../data/chest_xray/train/NORMAL\\NORMAL2-IM-0413-0001_aug0.jpg\n",
      "Deleted: ../data/chest_xray/train/NORMAL\\IM-0270-0001_aug0.jpg\n",
      "Deleted: ../data/chest_xray/train/NORMAL\\NORMAL2-IM-1105-0001_aug0.jpg\n",
      "Deleted: ../data/chest_xray/train/NORMAL\\IM-0404-0001_aug1.jpg\n",
      "Deleted: ../data/chest_xray/train/NORMAL\\IM-0448-0001_aug1.jpg\n",
      "Deleted: ../data/chest_xray/train/NORMAL\\NORMAL2-IM-0867-0001_aug1.jpg\n",
      "Deleted: ../data/chest_xray/train/NORMAL\\IM-0277-0001_aug1.jpg\n",
      "Deleted: ../data/chest_xray/train/NORMAL\\NORMAL2-IM-0841-0001_aug1.jpg\n",
      "Deleted: ../data/chest_xray/train/NORMAL\\IM-0278-0001_aug0.jpg\n",
      "Deleted: ../data/chest_xray/train/NORMAL\\IM-0530-0001_aug0.jpg\n",
      "Deleted: ../data/chest_xray/train/NORMAL\\IM-0598-0001_aug0.jpg\n",
      "Deleted: ../data/chest_xray/train/NORMAL\\IM-0275-0001_aug1.jpg\n",
      "Deleted: ../data/chest_xray/train/NORMAL\\NORMAL2-IM-1204-0001_aug0.jpg\n",
      "Deleted: ../data/chest_xray/train/NORMAL\\NORMAL2-IM-1050-0001_aug0.jpg\n",
      "Deleted: ../data/chest_xray/train/NORMAL\\IM-0537-0001_aug0.jpg\n",
      "Deleted: ../data/chest_xray/train/NORMAL\\IM-0141-0001_aug0.jpg\n",
      "Deleted: ../data/chest_xray/train/NORMAL\\IM-0243-0001_aug1.jpg\n",
      "Deleted: ../data/chest_xray/train/NORMAL\\IM-0642-0001_aug1.jpg\n",
      "Deleted: ../data/chest_xray/train/NORMAL\\IM-0531-0001-0001_aug1.jpg\n",
      "Deleted: ../data/chest_xray/train/NORMAL\\NORMAL2-IM-0573-0001_aug0.jpg\n",
      "Deleted: ../data/chest_xray/train/NORMAL\\IM-0630-0001_aug1.jpg\n",
      "Deleted: ../data/chest_xray/train/NORMAL\\IM-0547-0001_aug0.jpg\n",
      "Deleted: ../data/chest_xray/train/NORMAL\\NORMAL2-IM-1365-0001_aug1.jpg\n",
      "Deleted: ../data/chest_xray/train/NORMAL\\IM-0555-0001-0001_aug1.jpg\n",
      "Deleted: ../data/chest_xray/train/NORMAL\\NORMAL2-IM-1202-0001_aug0.jpg\n",
      "Deleted: ../data/chest_xray/train/NORMAL\\IM-0511-0001_aug0.jpg\n",
      "Deleted: ../data/chest_xray/train/NORMAL\\IM-0581-0001_aug0.jpg\n",
      "Deleted: ../data/chest_xray/train/NORMAL\\NORMAL2-IM-0689-0001_aug1.jpg\n",
      "Deleted: ../data/chest_xray/train/NORMAL\\IM-0416-0001_aug0.jpg\n",
      "Deleted: ../data/chest_xray/train/NORMAL\\NORMAL2-IM-0986-0001_aug0.jpg\n",
      "Deleted: ../data/chest_xray/train/NORMAL\\IM-0525-0001-0002_aug1.jpg\n",
      "Deleted: ../data/chest_xray/train/NORMAL\\NORMAL2-IM-0578-0001_aug0.jpg\n",
      "Deleted: ../data/chest_xray/train/NORMAL\\IM-0283-0001_aug1.jpg\n",
      "Deleted: ../data/chest_xray/train/NORMAL\\NORMAL2-IM-1162-0001_aug1.jpg\n",
      "Deleted: ../data/chest_xray/train/NORMAL\\IM-0225-0001_aug1.jpg\n",
      "Deleted: ../data/chest_xray/train/NORMAL\\NORMAL2-IM-1033-0001_aug1.jpg\n",
      "Deleted: ../data/chest_xray/train/NORMAL\\NORMAL2-IM-1202-0001_aug1.jpg\n",
      "Deleted: ../data/chest_xray/train/NORMAL\\IM-0661-0001_aug1.jpg\n",
      "Deleted: ../data/chest_xray/train/NORMAL\\NORMAL2-IM-0414-0001_aug0.jpg\n",
      "Deleted: ../data/chest_xray/train/NORMAL\\IM-0311-0001_aug0.jpg\n",
      "Deleted: ../data/chest_xray/train/NORMAL\\NORMAL2-IM-0545-0001_aug1.jpg\n",
      "Deleted: ../data/chest_xray/train/NORMAL\\NORMAL2-IM-1049-0001_aug0.jpg\n",
      "Deleted: ../data/chest_xray/train/NORMAL\\IM-0217-0001_aug0.jpg\n",
      "Deleted: ../data/chest_xray/train/NORMAL\\NORMAL2-IM-0675-0001_aug0.jpg\n",
      "Deleted: ../data/chest_xray/train/NORMAL\\IM-0523-0001-0003_aug1.jpg\n",
      "Deleted: ../data/chest_xray/train/NORMAL\\NORMAL2-IM-0882-0001_aug1.jpg\n",
      "Deleted: ../data/chest_xray/train/NORMAL\\NORMAL2-IM-0445-0001_aug0.jpg\n",
      "Deleted: ../data/chest_xray/train/NORMAL\\IM-0119-0001_aug0.jpg\n",
      "Deleted: ../data/chest_xray/train/NORMAL\\NORMAL2-IM-1152-0001-0001_aug0.jpg\n",
      "Deleted: ../data/chest_xray/train/NORMAL\\IM-0265-0001_aug0.jpg\n",
      "Deleted: ../data/chest_xray/train/NORMAL\\IM-0544-0001_aug1.jpg\n",
      "Deleted: ../data/chest_xray/train/NORMAL\\IM-0449-0001_aug1.jpg\n",
      "Deleted: ../data/chest_xray/train/NORMAL\\IM-0714-0001_aug1.jpg\n",
      "Deleted: ../data/chest_xray/train/NORMAL\\IM-0533-0001_aug0.jpg\n",
      "Deleted: ../data/chest_xray/train/NORMAL\\NORMAL2-IM-0820-0001_aug1.jpg\n",
      "Deleted: ../data/chest_xray/train/NORMAL\\NORMAL2-IM-1275-0001_aug1.jpg\n",
      "Deleted: ../data/chest_xray/train/NORMAL\\NORMAL2-IM-0900-0001_aug0.jpg\n",
      "Deleted: ../data/chest_xray/train/NORMAL\\IM-0363-0001_aug0.jpg\n",
      "Deleted: ../data/chest_xray/train/NORMAL\\IM-0221-0001_aug1.jpg\n",
      "Deleted: ../data/chest_xray/train/NORMAL\\NORMAL2-IM-0871-0001_aug0.jpg\n",
      "Deleted: ../data/chest_xray/train/NORMAL\\NORMAL2-IM-0468-0001_aug1.jpg\n",
      "Deleted: ../data/chest_xray/train/NORMAL\\IM-0185-0001_aug1.jpg\n",
      "Deleted: ../data/chest_xray/train/NORMAL\\IM-0269-0001_aug1.jpg\n",
      "Deleted: ../data/chest_xray/train/NORMAL\\NORMAL2-IM-1289-0001_aug1.jpg\n",
      "Deleted: ../data/chest_xray/train/NORMAL\\IM-0513-0001_aug0.jpg\n",
      "Deleted: ../data/chest_xray/train/NORMAL\\NORMAL2-IM-0848-0001_aug0.jpg\n",
      "Deleted: ../data/chest_xray/train/NORMAL\\NORMAL2-IM-1254-0001_aug1.jpg\n",
      "Deleted: ../data/chest_xray/train/NORMAL\\NORMAL2-IM-0832-0001-0002_aug1.jpg\n",
      "Deleted: ../data/chest_xray/train/NORMAL\\IM-0591-0001_aug0.jpg\n",
      "Deleted: ../data/chest_xray/train/NORMAL\\IM-0461-0001_aug0.jpg\n",
      "Deleted: ../data/chest_xray/train/NORMAL\\NORMAL2-IM-0842-0001_aug0.jpg\n",
      "Deleted: ../data/chest_xray/train/NORMAL\\NORMAL2-IM-0877-0001_aug1.jpg\n",
      "Deleted: ../data/chest_xray/train/NORMAL\\IM-0640-0001-0002_aug0.jpg\n",
      "Deleted: ../data/chest_xray/train/NORMAL\\NORMAL2-IM-1008-0001_aug0.jpg\n",
      "Deleted: ../data/chest_xray/train/NORMAL\\IM-0300-0001_aug0.jpg\n",
      "Deleted: ../data/chest_xray/train/NORMAL\\IM-0382-0001_aug1.jpg\n",
      "Deleted: ../data/chest_xray/train/NORMAL\\NORMAL2-IM-0414-0001_aug1.jpg\n",
      "Deleted: ../data/chest_xray/train/NORMAL\\NORMAL2-IM-1422-0001_aug0.jpg\n",
      "Deleted: ../data/chest_xray/train/NORMAL\\NORMAL2-IM-0416-0001-0002_aug1.jpg\n",
      "Deleted: ../data/chest_xray/train/NORMAL\\NORMAL2-IM-1064-0001_aug1.jpg\n",
      "Deleted: ../data/chest_xray/train/NORMAL\\NORMAL2-IM-1356-0001_aug1.jpg\n",
      "Deleted: ../data/chest_xray/train/NORMAL\\IM-0620-0001-0002_aug1.jpg\n",
      "Deleted: ../data/chest_xray/train/NORMAL\\NORMAL2-IM-0775-0001_aug0.jpg\n",
      "Deleted: ../data/chest_xray/train/NORMAL\\NORMAL2-IM-1205-0001_aug0.jpg\n",
      "Deleted: ../data/chest_xray/train/NORMAL\\IM-0506-0001_aug1.jpg\n",
      "Deleted: ../data/chest_xray/train/NORMAL\\IM-0182-0001_aug0.jpg\n",
      "Deleted: ../data/chest_xray/train/NORMAL\\NORMAL2-IM-0488-0001_aug1.jpg\n",
      "Deleted: ../data/chest_xray/train/NORMAL\\NORMAL2-IM-1190-0001_aug0.jpg\n",
      "Deleted: ../data/chest_xray/train/NORMAL\\NORMAL2-IM-0664-0001_aug0.jpg\n",
      "Deleted: ../data/chest_xray/train/NORMAL\\IM-0591-0001_aug1.jpg\n",
      "Deleted: ../data/chest_xray/train/NORMAL\\NORMAL2-IM-0388-0001_aug1.jpg\n",
      "✅ 3875 augmented NORMAL images created.\n"
     ]
    }
   ],
   "source": [
    "normal_images = os.listdir(dir)\n",
    "\n",
    "# Saving of new changed data\n",
    "for img_name in normal_images:\n",
    "    if (\"_aug\" not in img_name):\n",
    "        img_path = os.path.join(dir, img_name)\n",
    "        image = Image.open(img_path).convert(\"RGB\")\n",
    "\n",
    "        for i in range(2):  # About 2 times each image should be used to get a similar number as pneumonia\n",
    "            augmented_image = augment_transform(image)\n",
    "            save_path = os.path.join(dir, f\"{img_name.split('.')[0]}_aug{i}.jpg\")\n",
    "            augmented_image.save(save_path)\n",
    "\n",
    "# random deletion of unnecessary images, so that the number of both is 3875\n",
    "num_to_delete = 148\n",
    "all_files = [file for file in os.listdir(dir) if \"_aug\" in file]  # new data\n",
    "files_to_delete = random.sample(all_files, num_to_delete)\n",
    "\n",
    "for file in files_to_delete:\n",
    "    file_path = os.path.join(dir, file)\n",
    "    os.remove(file_path)\n",
    "    print(f\"Deleted: {file_path}\")\n",
    "\n",
    "print(f\"✅ {len(os.listdir(dir))} augmented NORMAL images created.\")"
   ]
  },
  {
   "cell_type": "code",
   "execution_count": 16,
   "metadata": {},
   "outputs": [
    {
     "name": "stdout",
     "output_type": "stream",
     "text": [
      "\n",
      "📂 TRAIN SET\n",
      "NORMAL: 3875 images\n",
      "PNEUMONIA: 3875 images\n"
     ]
    }
   ],
   "source": [
    "dataset = \"train\"\n",
    "\n",
    "normal_count = len(os.listdir(os.path.join(data_dir, dataset, \"NORMAL\")))\n",
    "\n",
    "pneumonia_count = len(os.listdir(os.path.join(data_dir, dataset, \"PNEUMONIA\")))\n",
    "\n",
    "print(f\"\\n📂 {dataset.upper()} SET\")\n",
    "print(f\"NORMAL: {normal_count} images\")\n",
    "\n",
    "print(f\"PNEUMONIA: {pneumonia_count} images\")\n"
   ]
  },
  {
   "cell_type": "markdown",
   "metadata": {},
   "source": [
    "now the training data is balanced!"
   ]
  },
  {
   "cell_type": "markdown",
   "metadata": {},
   "source": [
    "### **_GET DATA_**"
   ]
  },
  {
   "cell_type": "markdown",
   "metadata": {},
   "source": [
    "### _Image pre-processing_"
   ]
  },
  {
   "cell_type": "code",
   "execution_count": null,
   "metadata": {},
   "outputs": [],
   "source": [
    "train_transforms = transforms.Compose([\n",
    "    transforms.RandomResizedCrop(224),\n",
    "    transforms.RandomHorizontalFlip(),\n",
    "    transforms.RandomRotation(10),\n",
    "    transforms.ToTensor(), # the images are converted to Pytroch-tensor \n",
    "    transforms.Normalize([0.485, 0.456, 0.406],\n",
    "                         [0.229, 0.224, 0.225])\n",
    "])\n",
    "\n",
    "test_transforms = transforms.Compose([\n",
    "    transforms.Resize((224, 224)), # for 224x224 images.\n",
    "    transforms.ToTensor(), # the images are converted to Pytroch-tensor \n",
    "    transforms.Normalize([0.485, 0.456, 0.406],\n",
    "                         [0.229, 0.224, 0.225])\n",
    "])\n"
   ]
  },
  {
   "cell_type": "markdown",
   "metadata": {},
   "source": [
    "### _Load Datasets_\n",
    "\n",
    "\n",
    "we now have to classify each picture whether it corresponds to \"NORMAL\" or \"PNEUMONIA\"\n",
    "\n",
    "0 = \"NORMAL\", 1 = \"PNEUMONIA\""
   ]
  },
  {
   "cell_type": "code",
   "execution_count": 19,
   "metadata": {},
   "outputs": [],
   "source": [
    "train_dataset = datasets.ImageFolder(os.path.join(data_dir, \"train\"), transform=train_transforms)\n",
    "val_dataset = datasets.ImageFolder(os.path.join(data_dir, \"val\"), transform=test_transforms)\n",
    "test_dataset = datasets.ImageFolder(os.path.join(data_dir, \"test\"), transform=test_transforms)"
   ]
  },
  {
   "cell_type": "code",
   "execution_count": 20,
   "metadata": {},
   "outputs": [],
   "source": [
    "BATCH_SIZE = 16\n",
    "\n",
    "train_loader = DataLoader(train_dataset, batch_size=BATCH_SIZE, shuffle=True)\n",
    "val_loader = DataLoader(val_dataset, batch_size=BATCH_SIZE)\n",
    "test_loader = DataLoader(test_dataset, batch_size=BATCH_SIZE)"
   ]
  },
  {
   "cell_type": "code",
   "execution_count": 21,
   "metadata": {},
   "outputs": [
    {
     "name": "stdout",
     "output_type": "stream",
     "text": [
      "{'NORMAL': 0, 'PNEUMONIA': 1}\n"
     ]
    }
   ],
   "source": [
    "print(train_dataset.class_to_idx)"
   ]
  },
  {
   "cell_type": "markdown",
   "metadata": {},
   "source": [
    "\n",
    "\n",
    "\n",
    "\n",
    "### **_VISUALIZATIONS_**"
   ]
  },
  {
   "cell_type": "code",
   "execution_count": 22,
   "metadata": {},
   "outputs": [
    {
     "name": "stderr",
     "output_type": "stream",
     "text": [
      "Clipping input data to the valid range for imshow with RGB data ([0..1] for floats or [0..255] for integers). Got range [-2.117904..1.8556864].\n"
     ]
    },
    {
     "data": {
      "image/png": "[encoded data removed]",
      "text/plain": [
       "<Figure size 640x480 with 1 Axes>"
      ]
     },
     "metadata": {},
     "output_type": "display_data"
    }
   ],
   "source": [
    "# first picture in train_dataset\n",
    "image, label = train_dataset[1] \n",
    "\n",
    "# Change order from (C, H, W) → (H, W, C) and convert to numpy array\n",
    "image = image.permute(1, 2, 0).numpy()\n",
    "\n",
    "# Display the image\n",
    "plt.imshow(image)\n",
    "plt.title(\"Label: NORMAL\" if label == 0 else \"Label: PNEUMONIA\")\n",
    "plt.axis('off')\n",
    "plt.show()\n"
   ]
  }
 ],
 "metadata": {
  "kernelspec": {
   "display_name": "Python 3",
   "language": "python",
   "name": "python3"
  },
  "language_info": {
   "codemirror_mode": {
    "name": "ipython",
    "version": 3
   },
   "file_extension": ".py",
   "mimetype": "text/x-python",
   "name": "python",
   "nbconvert_exporter": "python",
   "pygments_lexer": "ipython3",
   "version": "3.11.9"
  }
 },
 "nbformat": 4,
 "nbformat_minor": 2
}
